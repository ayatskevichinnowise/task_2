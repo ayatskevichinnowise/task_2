{
 "cells": [
  {
   "cell_type": "markdown",
   "id": "d3df79dd",
   "metadata": {},
   "source": [
    "## Упражнения по библиотеке Numpy"
   ]
  },
  {
   "cell_type": "code",
   "execution_count": 1,
   "id": "76b9c43b",
   "metadata": {},
   "outputs": [],
   "source": [
    "import numpy as np\n",
    "import scipy"
   ]
  },
  {
   "cell_type": "markdown",
   "id": "03727b7c",
   "metadata": {},
   "source": [
    "**1.** Дан случайный массив, поменять знак у элементов, значения которых между 3 и 8"
   ]
  },
  {
   "cell_type": "code",
   "execution_count": 2,
   "id": "b89a7523",
   "metadata": {},
   "outputs": [],
   "source": [
    "arr = np.array(np.arange(20))\n",
    "arr = np.where((arr >= 3) & (arr <= 8), arr * (-1), arr)"
   ]
  },
  {
   "cell_type": "markdown",
   "id": "5fa4abda",
   "metadata": {},
   "source": [
    "**2.** Заменить максимальный элемент случайного массива на 0"
   ]
  },
  {
   "cell_type": "code",
   "execution_count": 3,
   "id": "f2788a6e",
   "metadata": {},
   "outputs": [],
   "source": [
    "arr = np.where(arr == arr.max(), 0, arr)"
   ]
  },
  {
   "cell_type": "markdown",
   "id": "3cac656b",
   "metadata": {},
   "source": [
    "**3.** Построить прямое произведение массивов (все комбинации с каждым элементом). На вход подается двумерный массив"
   ]
  },
  {
   "cell_type": "code",
   "execution_count": 4,
   "id": "3396b764",
   "metadata": {},
   "outputs": [
    {
     "data": {
      "text/plain": [
       "array([[19, 18],\n",
       "       [43, 38]])"
      ]
     },
     "execution_count": 4,
     "metadata": {},
     "output_type": "execute_result"
    }
   ],
   "source": [
    "arr1 = np.array([[1, 2], [3, 4]])\n",
    "arr2 = np.array([[5, 2], [7, 8]])\n",
    "np.dot(arr1, arr2)"
   ]
  },
  {
   "cell_type": "markdown",
   "id": "674c9354",
   "metadata": {},
   "source": [
    "**4.** Даны 2 массива A (8x3) и B (2x2). Найти строки в A, которые содержат элементы из каждой строки в B, независимо от порядка элементов в B"
   ]
  },
  {
   "cell_type": "code",
   "execution_count": 5,
   "id": "cb664782",
   "metadata": {},
   "outputs": [
    {
     "data": {
      "text/plain": [
       "array([[5, 6, 5],\n",
       "       [3, 4, 4],\n",
       "       [2, 6, 6],\n",
       "       [2, 3, 6],\n",
       "       [5, 7, 7],\n",
       "       [7, 3, 1],\n",
       "       [3, 5, 4],\n",
       "       [9, 7, 2]])"
      ]
     },
     "execution_count": 5,
     "metadata": {},
     "output_type": "execute_result"
    }
   ],
   "source": [
    "arr3 = np.array([[5, 6, 5],\n",
    "                [3, 4, 4],\n",
    "                [2, 6, 6],\n",
    "                [2, 3, 6],\n",
    "                [5, 7, 7],\n",
    "                [7, 3, 1],\n",
    "                [3, 5, 4],\n",
    "                [9, 7, 2]])\n",
    "arr3"
   ]
  },
  {
   "cell_type": "code",
   "execution_count": 6,
   "id": "89a0deff",
   "metadata": {},
   "outputs": [
    {
     "data": {
      "text/plain": [
       "array([[9, 7],\n",
       "       [2, 7]])"
      ]
     },
     "execution_count": 6,
     "metadata": {},
     "output_type": "execute_result"
    }
   ],
   "source": [
    "arr4 = np.array([[9, 7], [2, 7]])\n",
    "arr4"
   ]
  },
  {
   "cell_type": "code",
   "execution_count": 7,
   "id": "93af90c6",
   "metadata": {},
   "outputs": [
    {
     "data": {
      "text/plain": [
       "array([[9, 7, 2]])"
      ]
     },
     "execution_count": 7,
     "metadata": {},
     "output_type": "execute_result"
    }
   ],
   "source": [
    "arr3[np.isin(arr3, arr4.flatten()).all(axis=1)]"
   ]
  },
  {
   "cell_type": "markdown",
   "id": "fa46533b",
   "metadata": {},
   "source": [
    "**5.** Дана 10x3 матрица, найти строки из неравных значений (например строка [2,2,3] остается, строка [3,3,3] удаляется)"
   ]
  },
  {
   "cell_type": "code",
   "execution_count": 8,
   "id": "fa545b23",
   "metadata": {},
   "outputs": [
    {
     "data": {
      "text/plain": [
       "array([[1, 1, 2],\n",
       "       [3, 2, 3],\n",
       "       [2, 1, 2],\n",
       "       [2, 2, 2],\n",
       "       [1, 1, 1],\n",
       "       [1, 2, 3],\n",
       "       [3, 2, 2],\n",
       "       [1, 1, 1],\n",
       "       [1, 2, 1],\n",
       "       [3, 1, 1]])"
      ]
     },
     "execution_count": 8,
     "metadata": {},
     "output_type": "execute_result"
    }
   ],
   "source": [
    "arr5 = np.array([[1, 1, 2],\n",
    "                [3, 2, 3],\n",
    "                [2, 1, 2],\n",
    "                [2, 2, 2],\n",
    "                [1, 1, 1],\n",
    "                [1, 2, 3],\n",
    "                [3, 2, 2],\n",
    "                [1, 1, 1],\n",
    "                [1, 2, 1],\n",
    "                [3, 1, 1]])\n",
    "arr5"
   ]
  },
  {
   "cell_type": "code",
   "execution_count": 9,
   "id": "591aba9b",
   "metadata": {},
   "outputs": [],
   "source": [
    "def all_equal(row):\n",
    "    return len(set(row)) == 1"
   ]
  },
  {
   "cell_type": "code",
   "execution_count": 10,
   "id": "18729f4d",
   "metadata": {},
   "outputs": [
    {
     "data": {
      "text/plain": [
       "array([[1, 1, 2],\n",
       "       [3, 2, 3],\n",
       "       [2, 1, 2],\n",
       "       [1, 2, 3],\n",
       "       [3, 2, 2],\n",
       "       [1, 2, 1],\n",
       "       [3, 1, 1]])"
      ]
     },
     "execution_count": 10,
     "metadata": {},
     "output_type": "execute_result"
    }
   ],
   "source": [
    "arr5[~np.apply_along_axis(all_equal, 1, arr5)]\n"
   ]
  },
  {
   "cell_type": "markdown",
   "id": "28f0d116",
   "metadata": {},
   "source": [
    "**6.** Дан двумерный массив. Удалить те строки, которые повторяются"
   ]
  },
  {
   "cell_type": "code",
   "execution_count": 11,
   "id": "83d2c0b7",
   "metadata": {},
   "outputs": [
    {
     "data": {
      "text/plain": [
       "array([[1, 3],\n",
       "       [1, 3],\n",
       "       [3, 2],\n",
       "       [1, 1],\n",
       "       [2, 3]])"
      ]
     },
     "execution_count": 11,
     "metadata": {},
     "output_type": "execute_result"
    }
   ],
   "source": [
    "arr6 = np.array([[1, 3],\n",
    "                [1, 3],\n",
    "                [3, 2],\n",
    "                [1, 1],\n",
    "                [2, 3]])\n",
    "arr6"
   ]
  },
  {
   "cell_type": "code",
   "execution_count": 12,
   "id": "e39e33fc",
   "metadata": {},
   "outputs": [
    {
     "data": {
      "text/plain": [
       "array([[1, 1],\n",
       "       [1, 3],\n",
       "       [2, 3],\n",
       "       [3, 2]])"
      ]
     },
     "execution_count": 12,
     "metadata": {},
     "output_type": "execute_result"
    }
   ],
   "source": [
    "np.unique(arr6, axis=0)"
   ]
  },
  {
   "cell_type": "markdown",
   "id": "6daa9e37",
   "metadata": {},
   "source": [
    "______\n",
    "______"
   ]
  },
  {
   "cell_type": "markdown",
   "id": "cfbfcaff",
   "metadata": {},
   "source": [
    "Для каждой из следующих задач (1-5) нужно привести 2 реализации – одна без использования numpy (cчитайте, что там, где на входе или выходе должны быть numpy array, будут просто списки), а вторая полностью векторизованная с использованием numpy (без использования питоновских циклов/map/list comprehension).\n",
    "\n",
    "\n",
    "__Замечание 1.__ Можно считать, что все указанные объекты непустые (к примеру, в __задаче 1__ на диагонали матрицы есть ненулевые элементы).\n",
    "\n",
    "__Замечание 2.__ Для большинства задач решение занимает не больше 1-2 строк."
   ]
  },
  {
   "cell_type": "markdown",
   "id": "673cac7f",
   "metadata": {},
   "source": [
    "___"
   ]
  },
  {
   "cell_type": "markdown",
   "id": "ca6f585e",
   "metadata": {},
   "source": [
    "* __Задача 1__: Подсчитать произведение ненулевых элементов на диагонали прямоугольной матрицы.  \n",
    " Например, для X = np.array([[1, 0, 1], [2, 0, 2], [3, 0, 3], [4, 4, 4]]) ответ 3."
   ]
  },
  {
   "cell_type": "code",
   "execution_count": 13,
   "id": "9c793f18",
   "metadata": {},
   "outputs": [],
   "source": [
    "X = np.array([[1, 0, 1], [2, 0, 2], [3, 0, 3], [4, 4, 4]])"
   ]
  },
  {
   "cell_type": "code",
   "execution_count": 14,
   "id": "20fde9dc",
   "metadata": {},
   "outputs": [
    {
     "data": {
      "text/plain": [
       "3"
      ]
     },
     "execution_count": 14,
     "metadata": {},
     "output_type": "execute_result"
    }
   ],
   "source": [
    "X = X.T if len(X) > len(X[0]) else X\n",
    "prod = 1\n",
    "for n, i in enumerate(X):\n",
    "    prod *= i[n] if i[n] != 0 else 1\n",
    "prod"
   ]
  },
  {
   "cell_type": "code",
   "execution_count": 15,
   "id": "065862fc",
   "metadata": {},
   "outputs": [
    {
     "data": {
      "text/plain": [
       "3"
      ]
     },
     "execution_count": 15,
     "metadata": {},
     "output_type": "execute_result"
    }
   ],
   "source": [
    "np.where(X == 0, 1, X).diagonal().prod()"
   ]
  },
  {
   "cell_type": "markdown",
   "id": "9fc51d41",
   "metadata": {},
   "source": [
    "* __Задача 2__: Даны два вектора x и y. Проверить, задают ли они одно и то же мультимножество.  \n",
    "  Например, для x = np.array([1, 2, 2, 4]), y = np.array([4, 2, 1, 2]) ответ True."
   ]
  },
  {
   "cell_type": "code",
   "execution_count": 16,
   "id": "a809e02f",
   "metadata": {},
   "outputs": [],
   "source": [
    "x = np.array([1, 2, 2, 4])\n",
    "y = np.array([4, 2, 1, 2])"
   ]
  },
  {
   "cell_type": "code",
   "execution_count": 17,
   "id": "49451269",
   "metadata": {},
   "outputs": [
    {
     "data": {
      "text/plain": [
       "True"
      ]
     },
     "execution_count": 17,
     "metadata": {},
     "output_type": "execute_result"
    }
   ],
   "source": [
    "sorted(x) == sorted(y)"
   ]
  },
  {
   "cell_type": "code",
   "execution_count": 18,
   "metadata": {},
   "outputs": [
    {
     "data": {
      "text/plain": [
       "True"
      ]
     },
     "execution_count": 18,
     "metadata": {},
     "output_type": "execute_result"
    }
   ],
   "source": [
    "np.array_equal(x.sort(), y.sort())"
   ]
  },
  {
   "cell_type": "markdown",
   "id": "b9c185c7",
   "metadata": {},
   "source": [
    "* __Задача 3__: Найти максимальный элемент в векторе x среди элементов, перед которыми стоит ноль. \n",
    " Например, для x = np.array([6, 2, 0, 3, 0, 0, 5, 7, 0]) ответ 5."
   ]
  },
  {
   "cell_type": "code",
   "execution_count": 19,
   "id": "b57df008",
   "metadata": {},
   "outputs": [],
   "source": [
    "x = np.array([6, 2, 0, 3, 0, 0, 5, 7, 0])"
   ]
  },
  {
   "cell_type": "code",
   "execution_count": 20,
   "id": "bfa3903a",
   "metadata": {},
   "outputs": [
    {
     "name": "stdout",
     "output_type": "stream",
     "text": [
      "5\n"
     ]
    }
   ],
   "source": [
    "maximum = 0\n",
    "for i in range(1, len(x)):\n",
    "    if (x[i - 1] == 0) & (x[i] > maximum):\n",
    "        maximum = x[i]\n",
    "print(maximum)"
   ]
  },
  {
   "cell_type": "code",
   "execution_count": 56,
   "id": "1a38a781",
   "metadata": {},
   "outputs": [
    {
     "data": {
      "text/plain": [
       "5"
      ]
     },
     "execution_count": 56,
     "metadata": {},
     "output_type": "execute_result"
    }
   ],
   "source": [
    "mask = (x == 0)\n",
    "x[1:][mask[:-1]].max()"
   ]
  },
  {
   "cell_type": "markdown",
   "id": "480be4ce",
   "metadata": {},
   "source": [
    "* __Задача 4__: Реализовать кодирование длин серий (Run-length encoding). Для некоторого вектора x необходимо вернуть кортеж из двух векторов одинаковой длины. Первый содержит числа, а второй - сколько раз их нужно повторить.  \n",
    " Например, для x = np.array([2, 2, 2, 3, 3, 3, 5]) ответ (np.array([2, 3, 5]), np.array([3, 3, 1]))."
   ]
  },
  {
   "cell_type": "code",
   "execution_count": 21,
   "id": "3c592124",
   "metadata": {},
   "outputs": [],
   "source": [
    "x = np.array([2, 2, 2, 3, 3, 3, 5])"
   ]
  },
  {
   "cell_type": "code",
   "execution_count": 22,
   "id": "71b89706",
   "metadata": {},
   "outputs": [
    {
     "name": "stdout",
     "output_type": "stream",
     "text": [
      "[2, 3, 5]\n",
      "[3, 3, 1]\n"
     ]
    }
   ],
   "source": [
    "arr_set = []\n",
    "arr_count = []\n",
    "x = list(x)\n",
    "for i in x:\n",
    "    if i not in arr_set:\n",
    "        arr_set.append(i)\n",
    "        arr_count.append(x.count(i))\n",
    "print(arr_set)\n",
    "print(arr_count)"
   ]
  },
  {
   "cell_type": "code",
   "execution_count": 23,
   "id": "a8bee1c9",
   "metadata": {},
   "outputs": [
    {
     "data": {
      "text/plain": [
       "array([2, 3, 5])"
      ]
     },
     "execution_count": 23,
     "metadata": {},
     "output_type": "execute_result"
    }
   ],
   "source": [
    "uniq, counts = np.unique(x, return_counts=True)\n",
    "uniq"
   ]
  },
  {
   "cell_type": "code",
   "execution_count": 24,
   "id": "c01bf417",
   "metadata": {},
   "outputs": [
    {
     "data": {
      "text/plain": [
       "array([3, 3, 1], dtype=int64)"
      ]
     },
     "execution_count": 24,
     "metadata": {},
     "output_type": "execute_result"
    }
   ],
   "source": [
    "counts"
   ]
  },
  {
   "cell_type": "markdown",
   "id": "077532ec",
   "metadata": {},
   "source": [
    "* __Задача 5__: Даны две выборки объектов - X и Y. Вычислить матрицу евклидовых расстояний между объектами. Сравните с функцией scipy.spatial.distance.cdist по скорости работы."
   ]
  },
  {
   "cell_type": "code",
   "execution_count": 25,
   "id": "1e807797",
   "metadata": {},
   "outputs": [],
   "source": [
    "X = np.array([[1, 2, 3], [2, 3, 4], [3, 4, 5], [2, 5, 1], [3, 5, 1]])\n",
    "Y = np.array([[2, 1, 3], [3, 5, 2], [4, 2, 3], [1, 3, 2], [2, 1, 4]])"
   ]
  },
  {
   "cell_type": "code",
   "execution_count": 26,
   "id": "e2cd0c81",
   "metadata": {},
   "outputs": [],
   "source": [
    "# # bigger arrays for better time consuming test\n",
    "# X = np.array([[1, 2, 3], [2, 3, 4], [3, 4, 5], [2, 5, 1],\n",
    "#               [3, 5, 1], [1, 3, 1], [2, 3, 1], [3, 4, 6],\n",
    "#               [1, 4, 3], [2, 3, 1], [1, 4, 2], [4, 5, 4]])\n",
    "# Y = np.array([[2, 1, 3], [3, 5, 2], [4, 2, 3], [1, 3, 2],\n",
    "#               [2, 1, 4], [1, 3, 5], [2, 4, 6], [2, 1, 2],\n",
    "#               [2, 1, 5], [1, 4, 4], [2, 1, 5], [5, 5, 5]])"
   ]
  },
  {
   "cell_type": "code",
   "execution_count": 27,
   "id": "963d4633",
   "metadata": {},
   "outputs": [
    {
     "name": "stdout",
     "output_type": "stream",
     "text": [
      "[1.4142135623730951, 3.7416573867739413, 3.0, 1.4142135623730951, 1.7320508075688772]\n",
      "[2.23606797749979, 3.0, 2.449489742783178, 2.23606797749979, 2.0]\n",
      "[3.7416573867739413, 3.1622776601683795, 3.0, 3.7416573867739413, 3.3166247903554]\n",
      "[4.47213595499958, 1.4142135623730951, 4.123105625617661, 2.449489742783178, 5.0]\n",
      "[4.58257569495584, 1.0, 3.7416573867739413, 3.0, 5.0990195135927845]\n"
     ]
    }
   ],
   "source": [
    "# loop decision\n",
    "result = []\n",
    "for x_row in X:\n",
    "    temp_r = []\n",
    "    for y_row in Y:\n",
    "        temp = 0\n",
    "        for n in range(len(x_row)):\n",
    "            temp += (x_row[n] - y_row[n])**2\n",
    "        temp_r.append(temp**0.5)\n",
    "    result.append(temp_r)\n",
    "print(*result, sep='\\n')"
   ]
  },
  {
   "cell_type": "code",
   "execution_count": 28,
   "id": "76f29c8f",
   "metadata": {},
   "outputs": [
    {
     "name": "stdout",
     "output_type": "stream",
     "text": [
      "233 µs ± 18.4 µs per loop (mean ± std. dev. of 7 runs, 1,000 loops each)\n"
     ]
    }
   ],
   "source": [
    "%%timeit\n",
    "result = []\n",
    "for x_row in X:\n",
    "    temp_r = []\n",
    "    for y_row in Y:\n",
    "        temp = 0\n",
    "        for n in range(len(x_row)):\n",
    "            temp += (x_row[n] - y_row[n])**2\n",
    "        temp_r.append(temp**0.5)\n",
    "    result.append(temp_r)"
   ]
  },
  {
   "cell_type": "code",
   "execution_count": 29,
   "id": "3422a2f4",
   "metadata": {},
   "outputs": [
    {
     "data": {
      "text/plain": [
       "array([[1.41421356, 3.74165739, 3.        , 1.41421356, 1.73205081],\n",
       "       [2.23606798, 3.        , 2.44948974, 2.23606798, 2.        ],\n",
       "       [3.74165739, 3.16227766, 3.        , 3.74165739, 3.31662479],\n",
       "       [4.47213595, 1.41421356, 4.12310563, 2.44948974, 5.        ],\n",
       "       [4.58257569, 1.        , 3.74165739, 3.        , 5.09901951]])"
      ]
     },
     "execution_count": 29,
     "metadata": {},
     "output_type": "execute_result"
    }
   ],
   "source": [
    "# numpy decision\n",
    "X_lin = np.repeat(X, len(Y), axis=0)\n",
    "Y_lin = np.vstack(tuple(Y for _ in range(len(Y))))\n",
    "np.linalg.norm(X_lin - Y_lin, axis=1, keepdims=False).reshape(len(X), -1)"
   ]
  },
  {
   "cell_type": "code",
   "execution_count": 30,
   "id": "a770a887",
   "metadata": {},
   "outputs": [
    {
     "name": "stdout",
     "output_type": "stream",
     "text": [
      "60 µs ± 3.11 µs per loop (mean ± std. dev. of 7 runs, 10,000 loops each)\n"
     ]
    }
   ],
   "source": [
    "%%timeit\n",
    "X_lin = np.repeat(X, len(Y), axis=0)\n",
    "Y_lin = np.vstack(tuple(Y for _ in range(len(Y))))\n",
    "np.linalg.norm(X_lin - Y_lin, axis=1, keepdims=False).reshape(len(X), -1)"
   ]
  },
  {
   "cell_type": "code",
   "execution_count": 31,
   "id": "974b0bb7",
   "metadata": {},
   "outputs": [
    {
     "data": {
      "text/plain": [
       "array([[1.41421356, 3.74165739, 3.        , 1.41421356, 1.73205081],\n",
       "       [2.23606798, 3.        , 2.44948974, 2.23606798, 2.        ],\n",
       "       [3.74165739, 3.16227766, 3.        , 3.74165739, 3.31662479],\n",
       "       [4.47213595, 1.41421356, 4.12310563, 2.44948974, 5.        ],\n",
       "       [4.58257569, 1.        , 3.74165739, 3.        , 5.09901951]])"
      ]
     },
     "execution_count": 31,
     "metadata": {},
     "output_type": "execute_result"
    }
   ],
   "source": [
    "# scipy decision\n",
    "scipy.spatial.distance.cdist(X, Y)"
   ]
  },
  {
   "cell_type": "code",
   "execution_count": 32,
   "id": "f1028bac",
   "metadata": {},
   "outputs": [
    {
     "name": "stdout",
     "output_type": "stream",
     "text": [
      "14 µs ± 847 ns per loop (mean ± std. dev. of 7 runs, 100,000 loops each)\n"
     ]
    }
   ],
   "source": [
    "%%timeit\n",
    "scipy.spatial.distance.cdist(X, Y)"
   ]
  },
  {
   "cell_type": "markdown",
   "id": "973e8064",
   "metadata": {},
   "source": [
    "_______\n",
    "________"
   ]
  },
  {
   "cell_type": "markdown",
   "id": "1104acb7",
   "metadata": {},
   "source": [
    "* #### __Задача 6__: CrunchieMunchies __*__\n",
    "\n",
    "Вы работаете в отделе маркетинга пищевой компании MyCrunch, которая разрабатывает новый вид вкусных, полезных злаков под названием **CrunchieMunchies**.\n",
    "\n",
    "Вы хотите продемонстрировать потребителям, насколько полезны ваши хлопья по сравнению с другими ведущими брендами, поэтому вы собрали данные о питании нескольких разных конкурентов.\n",
    "\n",
    "Ваша задача - использовать вычисления Numpy для анализа этих данных и доказать, что ваши **СrunchieMunchies** - самый здоровый выбор для потребителей.\n"
   ]
  },
  {
   "cell_type": "code",
   "execution_count": 33,
   "id": "10a77f8d",
   "metadata": {},
   "outputs": [],
   "source": [
    "import numpy as np"
   ]
  },
  {
   "cell_type": "markdown",
   "id": "ab87cb03",
   "metadata": {},
   "source": [
    "1. Просмотрите файл cereal.csv. Этот файл содержит количества калорий для различных марок хлопьев. Загрузите данные из файла и сохраните их как calorie_stats."
   ]
  },
  {
   "cell_type": "code",
   "execution_count": 34,
   "id": "9681ebf2",
   "metadata": {},
   "outputs": [
    {
     "data": {
      "text/plain": [
       "array([ 70., 120.,  70.,  50., 110., 110., 110., 130.,  90.,  90., 120.,\n",
       "       110., 120., 110., 110., 110., 100., 110., 110., 110., 100., 110.,\n",
       "       100., 100., 110., 110., 100., 120., 120., 110., 100., 110., 100.,\n",
       "       110., 120., 120., 110., 110., 110., 140., 110., 100., 110., 100.,\n",
       "       150., 150., 160., 100., 120., 140.,  90., 130., 120., 100.,  50.,\n",
       "        50., 100., 100., 120., 100.,  90., 110., 110.,  80.,  90.,  90.,\n",
       "       110., 110.,  90., 110., 140., 100., 110., 110., 100., 100., 110.])"
      ]
     },
     "execution_count": 34,
     "metadata": {},
     "output_type": "execute_result"
    }
   ],
   "source": [
    "calorie_stats = np.loadtxt(\"./data/cereal.csv\", delimiter=\",\")\n",
    "calorie_stats"
   ]
  },
  {
   "cell_type": "markdown",
   "id": "139cfbd8",
   "metadata": {},
   "source": [
    "2. В одной порции CrunchieMunchies содержится 60 калорий. Насколько выше среднее количество калорий у ваших конкурентов?\n",
    "\n",
    "Сохраните ответ в переменной average_calories и распечатайте переменную в терминале"
   ]
  },
  {
   "cell_type": "code",
   "execution_count": 35,
   "id": "7036d240",
   "metadata": {},
   "outputs": [
    {
     "data": {
      "text/plain": [
       "46.883116883116884"
      ]
     },
     "execution_count": 35,
     "metadata": {},
     "output_type": "execute_result"
    }
   ],
   "source": [
    "crunchie_cal = 60\n",
    "average_calories = np.mean(calorie_stats) - crunchie_cal\n",
    "average_calories"
   ]
  },
  {
   "cell_type": "markdown",
   "id": "b2ddb4cd",
   "metadata": {},
   "source": [
    "3. Корректно ли среднее количество калорий отражает распределение набора данных? Давайте отсортируем данные и посмотрим.\n",
    "\n",
    "Отсортируйте данные и сохраните результат в переменной calorie_stats_sorted. Распечатайте отсортированную информацию"
   ]
  },
  {
   "cell_type": "code",
   "execution_count": 36,
   "id": "46eeb4ed",
   "metadata": {},
   "outputs": [
    {
     "data": {
      "text/plain": [
       "array([ 50.,  50.,  50.,  70.,  70.,  80.,  90.,  90.,  90.,  90.,  90.,\n",
       "        90.,  90., 100., 100., 100., 100., 100., 100., 100., 100., 100.,\n",
       "       100., 100., 100., 100., 100., 100., 100., 100., 110., 110., 110.,\n",
       "       110., 110., 110., 110., 110., 110., 110., 110., 110., 110., 110.,\n",
       "       110., 110., 110., 110., 110., 110., 110., 110., 110., 110., 110.,\n",
       "       110., 110., 110., 110., 120., 120., 120., 120., 120., 120., 120.,\n",
       "       120., 120., 120., 130., 130., 140., 140., 140., 150., 150., 160.])"
      ]
     },
     "execution_count": 36,
     "metadata": {},
     "output_type": "execute_result"
    }
   ],
   "source": [
    "calorie_stats_sorted = np.sort(calorie_stats)\n",
    "calorie_stats_sorted"
   ]
  },
  {
   "cell_type": "markdown",
   "id": "4dc74116",
   "metadata": {},
   "source": [
    "4. Похоже, что большинство значений выше среднего. Давайте посмотрим, является ли медиана наиболее корректным показателем набора данных.\n",
    "\n",
    "Вычислите медиану набора данных и сохраните свой ответ в median_calories. Выведите медиану, чтобы вы могли видеть, как она сравнивается со средним значением."
   ]
  },
  {
   "cell_type": "code",
   "execution_count": 37,
   "id": "b56627c3",
   "metadata": {},
   "outputs": [
    {
     "data": {
      "text/plain": [
       "110.0"
      ]
     },
     "execution_count": 37,
     "metadata": {},
     "output_type": "execute_result"
    }
   ],
   "source": [
    "median_calories = np.median(calorie_stats)\n",
    "median_calories"
   ]
  },
  {
   "cell_type": "markdown",
   "id": "a63ab72f",
   "metadata": {},
   "source": [
    "5. В то время как медиана показывает, что по крайней мере половина наших значений составляет более 100 калорий, было бы более впечатляюще показать, что значительная часть конкурентов имеет более высокое количество калорий, чем CrunchieMunchies.\n",
    "\n",
    "Рассчитайте различные процентили и распечатайте их, пока не найдете наименьший процентиль, превышающий 60 калорий. Сохраните это значение в переменной nth_percentile."
   ]
  },
  {
   "cell_type": "code",
   "execution_count": 38,
   "id": "29f72c68",
   "metadata": {},
   "outputs": [
    {
     "name": "stdout",
     "output_type": "stream",
     "text": [
      "[50, 49, 48, 47, 46, 45, 44, 43, 42, 41, 40, 39, 38, 37, 36, 35, 34, 33, 32, 31, 30, 29, 28, 27, 26, 25, 24, 23, 22, 21, 20, 19, 18, 17, 16, 15, 14, 13, 12, 11, 10, 9, 8, 7, 6, 5, 4, 3, 2, 1]\n"
     ]
    }
   ],
   "source": [
    "print(list(range(50, 0, -1)))"
   ]
  },
  {
   "cell_type": "code",
   "execution_count": 39,
   "id": "48010d33",
   "metadata": {},
   "outputs": [
    {
     "name": "stdout",
     "output_type": "stream",
     "text": [
      "50% of cereals has more than 110.0 calories\n",
      "55% of cereals has more than 110.0 calories\n",
      "60% of cereals has more than 110.0 calories\n",
      "65% of cereals has more than 100.0 calories\n",
      "70% of cereals has more than 100.0 calories\n",
      "75% of cereals has more than 100.0 calories\n",
      "80% of cereals has more than 100.0 calories\n",
      "85% of cereals has more than 90.0 calories\n",
      "90% of cereals has more than 90.0 calories\n",
      "95% of cereals has more than 70.0 calories\n"
     ]
    },
    {
     "data": {
      "text/plain": [
       "4"
      ]
     },
     "execution_count": 39,
     "metadata": {},
     "output_type": "execute_result"
    }
   ],
   "source": [
    "for i in range(50, 0, -1):\n",
    "    other_cal = np.percentile(calorie_stats, i)\n",
    "    if i % 5 == 0:\n",
    "        print(f'{100 - i}% of cereals has more than {other_cal} calories')\n",
    "    if other_cal < crunchie_cal:\n",
    "        nth_percentile = i+1\n",
    "        break\n",
    "nth_percentile"
   ]
  },
  {
   "cell_type": "code",
   "execution_count": 40,
   "id": "0e9e6360",
   "metadata": {},
   "outputs": [
    {
     "data": {
      "text/plain": [
       "3.896103896103896"
      ]
     },
     "execution_count": 40,
     "metadata": {},
     "output_type": "execute_result"
    }
   ],
   "source": [
    "# better solution\n",
    "from scipy import stats\n",
    "stats.percentileofscore(calorie_stats, crunchie_cal)"
   ]
  },
  {
   "cell_type": "markdown",
   "id": "a2a3c5aa",
   "metadata": {},
   "source": [
    "6. Хотя процентиль показывает нам, что у большинства конкурентов количество калорий намного выше, это неудобная концепция для использования в маркетинговых материалах.\n",
    "\n",
    "Вместо этого давайте подсчитаем процент хлопьев, в которых содержится более 60 калорий на порцию. Сохраните свой ответ в переменной more_calories и распечатайте его"
   ]
  },
  {
   "cell_type": "code",
   "execution_count": 41,
   "id": "ade0f6ea",
   "metadata": {},
   "outputs": [
    {
     "data": {
      "text/plain": [
       "96.1"
      ]
     },
     "execution_count": 41,
     "metadata": {},
     "output_type": "execute_result"
    }
   ],
   "source": [
    "round(np.sum(np.where(calorie_stats > 60, 1, 0)) / len(calorie_stats) * 100, 2)"
   ]
  },
  {
   "cell_type": "markdown",
   "id": "1735d65b",
   "metadata": {},
   "source": [
    "7. Это действительно высокий процент. Это будет очень полезно, когда мы будем продвигать CrunchieMunchies. Но один вопрос заключается в том, насколько велики различия в наборе данных? Можем ли мы сделать обобщение, что в большинстве злаков содержится около 100 калорий или разброс еще больше?\n",
    "\n",
    "Рассчитайте величину отклонения, найдя стандартное отклонение, Сохраните свой ответ в calorie_std и распечатайте на терминале. Как мы можем включить эту ценность в наш анализ?"
   ]
  },
  {
   "cell_type": "code",
   "execution_count": 42,
   "id": "85c8df1f",
   "metadata": {},
   "outputs": [
    {
     "name": "stdout",
     "output_type": "stream",
     "text": [
      "19.35718533390827\n"
     ]
    }
   ],
   "source": [
    "calorie_std = np.std(calorie_stats)\n",
    "print(calorie_std)"
   ]
  },
  {
   "cell_type": "markdown",
   "id": "037455c5",
   "metadata": {},
   "source": [
    "8. Напишите короткий абзац, в котором кратко изложите свои выводы и то, как, по вашему мнению, эти данные могут быть использованы в интересах Mycrunch при маркетинге CrunchieMunchies."
   ]
  },
  {
   "attachments": {},
   "cell_type": "markdown",
   "id": "f1503f9e",
   "metadata": {},
   "source": [
    "Мы узнали, что хлопья CrunchieMunchies менее калорийны нежели <b>96,1%</b> других хлопьев.</br>\n",
    "При средней (медианной) калорийности на рынке в размере 110, данные хлопья едва ли не в <b>2(!) раза</b> менее калорийны.</br>\n",
    "Стандартное отклонение в размере 19,35 показывает, что разброс в калорийности небольшой на рынке хлопьев.</br>\n",
    "\n",
    "Полученные данные мы можем использовать, чтобы продемонстировать явное преимущество хлопьев CrunchieMunchies над большинством других хлопьев в разрезе меньшей калорийности, следовательно их можно продвигать как более здоровые и полезные для организма для людей следящих за своей фигурой."
   ]
  },
  {
   "cell_type": "code",
   "execution_count": null,
   "id": "c57c86e2",
   "metadata": {},
   "outputs": [],
   "source": []
  }
 ],
 "metadata": {
  "kernelspec": {
   "display_name": "Python 3",
   "language": "python",
   "name": "python3"
  },
  "language_info": {
   "codemirror_mode": {
    "name": "ipython",
    "version": 3
   },
   "file_extension": ".py",
   "mimetype": "text/x-python",
   "name": "python",
   "nbconvert_exporter": "python",
   "pygments_lexer": "ipython3",
   "version": "3.10.0"
  },
  "vscode": {
   "interpreter": {
    "hash": "ff34866746759a34b39383e768bab9d37442c941fc450b227860c81e83a70852"
   }
  }
 },
 "nbformat": 4,
 "nbformat_minor": 5
}
